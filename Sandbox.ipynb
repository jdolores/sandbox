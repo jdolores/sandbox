{
 "cells": [
  {
   "cell_type": "code",
   "execution_count": 1,
   "id": "b0b8690a-879b-46bc-adb5-8f3ad0913cf7",
   "metadata": {},
   "outputs": [
    {
     "name": "stdout",
     "output_type": "stream",
     "text": [
      "Hello World\n"
     ]
    }
   ],
   "source": [
    "#Hello World\n",
    "print(\"Hello World\")"
   ]
  },
  {
   "cell_type": "code",
   "execution_count": 2,
   "id": "53ac8bbc-9a53-4c76-8a7f-4203b3982d20",
   "metadata": {},
   "outputs": [
    {
     "name": "stdout",
     "output_type": "stream",
     "text": [
      "x is 1.\n"
     ]
    }
   ],
   "source": [
    "#assignment and conditional\n",
    "x = 1\n",
    "if x == 1:\n",
    "    print(\"x is 1.\")"
   ]
  },
  {
   "cell_type": "code",
   "execution_count": 3,
   "id": "fd28e740-5e20-496b-9775-7da42716960c",
   "metadata": {},
   "outputs": [
    {
     "name": "stdout",
     "output_type": "stream",
     "text": [
      "7.0\n",
      "7.0\n",
      "hello\n",
      "hello\n",
      "3\n",
      "hello world\n",
      "3 4\n"
     ]
    }
   ],
   "source": [
    "#datatypes\n",
    "myfloat = 7.0\n",
    "print(myfloat)\n",
    "myfloat = float(7)\n",
    "print(myfloat)\n",
    "mystring = 'hello'\n",
    "print(mystring)\n",
    "mystring = \"hello\"\n",
    "print(mystring)\n",
    "#addition\n",
    "one = 1\n",
    "two = 2\n",
    "three = one + two\n",
    "print(three)\n",
    "#concatenation\n",
    "hello = \"hello\"\n",
    "world = \"world\"\n",
    "helloworld = hello + \" \" + world\n",
    "print(helloworld)\n",
    "#multiple assignment\n",
    "#okay for functions, but not great inline (bad PEP-8)\n",
    "a, b = 3, 4\n",
    "print(a, b)"
   ]
  },
  {
   "cell_type": "code",
   "execution_count": 4,
   "id": "0430426e-7440-4ab8-8feb-bc14c1c3a4bd",
   "metadata": {},
   "outputs": [
    {
     "name": "stdout",
     "output_type": "stream",
     "text": [
      "String: hello\n",
      "Float: 10.000000\n",
      "Integer: 20\n"
     ]
    }
   ],
   "source": [
    "# change this code\n",
    "mystring = \"hello\"\n",
    "myfloat = 10.0\n",
    "myint = 20\n",
    "\n",
    "# testing code\n",
    "if mystring == \"hello\":\n",
    "    print(\"String: %s\" % mystring)\n",
    "if isinstance(myfloat, float) and myfloat == 10.0:\n",
    "    print(\"Float: %f\" % myfloat)\n",
    "if isinstance(myint, int) and myint == 20:\n",
    "    print(\"Integer: %d\" % myint)"
   ]
  },
  {
   "cell_type": "code",
   "execution_count": 5,
   "id": "5a03a97d-c01b-4556-9b6b-009054b2decb",
   "metadata": {},
   "outputs": [
    {
     "name": "stdout",
     "output_type": "stream",
     "text": [
      "1. Write a program to print the given number is odd or even.\n",
      "1 is odd\n",
      "2 is even\n",
      "0 is even\n",
      "-1 is odd\n",
      "-2 is even\n",
      "1.1 is odd\n",
      "-1.2 is odd\n",
      "-2 is even\n"
     ]
    }
   ],
   "source": [
    "# Credit: https://www.prepbytes.com/blog/python/top-20-coding-questions-for-basic-python-programming/\n",
    "\n",
    "print(\"1. Write a program to print the given number is odd or even.\")\n",
    "def is_odd_or_even(x):\n",
    "    if(x % 2 == 0):\n",
    "        return 0 #even\n",
    "    else:\n",
    "        return 1 #odd\n",
    "\n",
    "# Test Function\n",
    "def test(x):\n",
    "    if(is_odd_or_even(x) == 0):\n",
    "        print(\"%s is even\" % x)\n",
    "    else:\n",
    "        print(\"%s is odd\" % x)\n",
    "\n",
    "# Test Cases\n",
    "test(1)\n",
    "test(2)\n",
    "test(0)\n",
    "test(-1)\n",
    "test(-2)\n",
    "test(1.1)\n",
    "test(-1.2)\n",
    "test(-2)"
   ]
  },
  {
   "cell_type": "code",
   "execution_count": 6,
   "id": "7d6f74b7-372a-4754-808d-6ce4c51f859a",
   "metadata": {},
   "outputs": [
    {
     "name": "stdout",
     "output_type": "stream",
     "text": [
      "2. Write a program to find the given number is positive or negative.\n",
      "1 is positive\n",
      "2 is positive\n",
      "0 is positive\n",
      "-1 is negative\n",
      "-2 is negative\n",
      "1.1 is positive\n",
      "-1.1 is negative\n",
      "-2 is negative\n"
     ]
    }
   ],
   "source": [
    "print(\"2. Write a program to find the given number is positive or negative.\")\n",
    "def is_positive_or_negative(x):\n",
    "    if(x >= 0):\n",
    "        return 0 #positive\n",
    "    else:\n",
    "        return 1 #negative\n",
    "\n",
    "# Test Function\n",
    "def test(x):\n",
    "    if(is_positive_or_negative(x) == 0):\n",
    "        print(\"%s is positive\" % x)\n",
    "    else:\n",
    "        print(\"%s is negative\" % x)\n",
    "\n",
    "# Test Cases\n",
    "test(1)\n",
    "test(2)\n",
    "test(0)\n",
    "test(-1)\n",
    "test(-2)\n",
    "test(1.1)\n",
    "test(-1.1)\n",
    "test(-2)"
   ]
  },
  {
   "cell_type": "code",
   "execution_count": 7,
   "id": "3b81bc5d-8398-454f-a850-3654a8bc80db",
   "metadata": {},
   "outputs": [
    {
     "name": "stdout",
     "output_type": "stream",
     "text": [
      "3. Write a program to find the sum of two numbers.\n",
      "1 + 1 = 2\n",
      "2 + 2 = 4\n",
      "-1 + -1 = -2\n",
      "-1 + 1 = 0\n",
      "0 + 0 = 0\n",
      "1.1 + 1.1 = 2.2\n",
      "-1.1 + -1.1 = -2.2\n",
      "-2 + 5 = 3\n",
      "2 + 2 = 5 WRONG\n"
     ]
    }
   ],
   "source": [
    "print(\"3. Write a program to find the sum of two numbers.\")\n",
    "def sum_two_numbers(x, y):\n",
    "    return x+y\n",
    "\n",
    "# Test Function\n",
    "def test(x, y, z):\n",
    "    if(sum_two_numbers(x,y) == z):\n",
    "        print(\"{0} + {1} = {2}\".format(x, y, z))\n",
    "    else:\n",
    "        print(\"{0} + {1} = {2} WRONG\".format(x, y, z))\n",
    "\n",
    "# Test Cases\n",
    "test(1,1,2)\n",
    "test(2,2,4)\n",
    "test(-1,-1,-2)\n",
    "test(-1,1,0)\n",
    "test(0,0,0)\n",
    "test(1.1,1.1,2.2)\n",
    "test(-1.1,-1.1,-2.2)\n",
    "test(-2,5,3)\n",
    "test(2,2,5)#WRONG"
   ]
  },
  {
   "cell_type": "code",
   "execution_count": 8,
   "id": "1b9b05c7-6204-421f-ac84-600cf0bae7c1",
   "metadata": {},
   "outputs": [
    {
     "name": "stdout",
     "output_type": "stream",
     "text": [
      "4. Write a program to find if the given number is prime or not.\n"
     ]
    }
   ],
   "source": [
    "print(\"4. Write a program to find if the given number is prime or not.\")\n"
   ]
  },
  {
   "cell_type": "code",
   "execution_count": 9,
   "id": "ea8673f1-8dc6-4954-8306-54e2c47f947e",
   "metadata": {},
   "outputs": [
    {
     "name": "stdout",
     "output_type": "stream",
     "text": [
      "5. Write a program to check if the given number is palindrome or not.\n",
      "6. Write a program to check if the given number is Armstrong or not.\n",
      "7. Write a program to check if the given strings are anagram or not.\n",
      "8. Write a program to find a maximum of two numbers.\n",
      "9. Write a program to find a minimum of two numbers.\n",
      "10. Write a program to find a maximum of three numbers.\n",
      "11. Write a program to find a maximum of three numbers.\n",
      "12. Write a program to find a factorial of a number.\n",
      "13. Write a program to find a fibonacci of a number.\n",
      "14. Write a program to find GCD of two numbers.\n",
      "15. Write a program to print the following patterns:\n"
     ]
    }
   ],
   "source": [
    "print(\"5. Write a program to check if the given number is palindrome or not.\")\n",
    "print(\"6. Write a program to check if the given number is Armstrong or not.\")\n",
    "print(\"7. Write a program to check if the given strings are anagram or not.\")\n",
    "print(\"8. Write a program to find a maximum of two numbers.\")\n",
    "print(\"9. Write a program to find a minimum of two numbers.\")\n",
    "print(\"10. Write a program to find a maximum of three numbers.\")\n",
    "print(\"11. Write a program to find a maximum of three numbers.\")\n",
    "print(\"12. Write a program to find a factorial of a number.\")\n",
    "print(\"13. Write a program to find a fibonacci of a number.\")\n",
    "print(\"14. Write a program to find GCD of two numbers.\")\n",
    "print(\"15. Write a program to print the following patterns:\")\n"
   ]
  },
  {
   "cell_type": "code",
   "execution_count": 14,
   "id": "0c813b26-a7b1-411f-b9b5-459d26134197",
   "metadata": {},
   "outputs": [
    {
     "name": "stdout",
     "output_type": "stream",
     "text": [
      "i: 1 sum: 1\n",
      "i: 2 sum: 3\n",
      "i: 3 sum: 6\n",
      "i: 4 sum: 10\n",
      "i: 5 sum: 15\n",
      "i: 6 sum: 21\n",
      "i: 7 sum: 28\n",
      "i: 8 sum: 36\n",
      "i: 9 sum: 45\n",
      "i: 10 sum: 55\n",
      "i: 11 sum: 66\n",
      "i: 12 sum: 78\n",
      "i: 13 sum: 91\n",
      "i: 14 sum: 105\n",
      "i: 15 sum: 120\n",
      "i: 16 sum: 136\n",
      "i: 17 sum: 153\n",
      "i: 18 sum: 171\n",
      "i: 19 sum: 190\n",
      "i: 20 sum: 210\n",
      "i: 21 sum: 231\n",
      "i: 22 sum: 253\n",
      "i: 23 sum: 276\n",
      "i: 24 sum: 300\n",
      "i: 25 sum: 325\n",
      "i: 26 sum: 351\n",
      "i: 27 sum: 378\n",
      "i: 28 sum: 406\n",
      "i: 29 sum: 435\n",
      "i: 30 sum: 465\n",
      "i: 31 sum: 496\n",
      "i: 32 sum: 528\n",
      "i: 33 sum: 561\n",
      "i: 34 sum: 595\n",
      "i: 35 sum: 630\n",
      "i: 36 sum: 666\n",
      "i: 37 sum: 703\n",
      "i: 38 sum: 741\n",
      "i: 39 sum: 780\n",
      "i: 40 sum: 820\n",
      "i: 41 sum: 861\n",
      "i: 42 sum: 903\n",
      "i: 43 sum: 946\n",
      "i: 44 sum: 990\n",
      "i: 45 sum: 1035\n",
      "i: 46 sum: 1081\n",
      "i: 47 sum: 1128\n",
      "i: 48 sum: 1176\n",
      "i: 49 sum: 1225\n",
      "i: 50 sum: 1275\n",
      "i: 51 sum: 1326\n",
      "i: 52 sum: 1378\n",
      "i: 53 sum: 1431\n",
      "i: 54 sum: 1485\n",
      "i: 55 sum: 1540\n",
      "i: 56 sum: 1596\n",
      "i: 57 sum: 1653\n",
      "i: 58 sum: 1711\n",
      "i: 59 sum: 1770\n",
      "i: 60 sum: 1830\n",
      "i: 61 sum: 1891\n",
      "i: 62 sum: 1953\n",
      "i: 63 sum: 2016\n",
      "i: 64 sum: 2080\n",
      "i: 65 sum: 2145\n",
      "i: 66 sum: 2211\n",
      "i: 67 sum: 2278\n",
      "i: 68 sum: 2346\n",
      "i: 69 sum: 2415\n",
      "i: 70 sum: 2485\n",
      "i: 71 sum: 2556\n",
      "i: 72 sum: 2628\n",
      "i: 73 sum: 2701\n",
      "i: 74 sum: 2775\n",
      "i: 75 sum: 2850\n",
      "i: 76 sum: 2926\n",
      "i: 77 sum: 3003\n",
      "i: 78 sum: 3081\n",
      "i: 79 sum: 3160\n",
      "i: 80 sum: 3240\n",
      "i: 81 sum: 3321\n",
      "i: 82 sum: 3403\n",
      "i: 83 sum: 3486\n",
      "i: 84 sum: 3570\n",
      "i: 85 sum: 3655\n",
      "i: 86 sum: 3741\n",
      "i: 87 sum: 3828\n",
      "i: 88 sum: 3916\n",
      "i: 89 sum: 4005\n",
      "i: 90 sum: 4095\n",
      "i: 91 sum: 4186\n",
      "i: 92 sum: 4278\n",
      "i: 93 sum: 4371\n",
      "i: 94 sum: 4465\n",
      "i: 95 sum: 4560\n",
      "i: 96 sum: 4656\n",
      "i: 97 sum: 4753\n",
      "i: 98 sum: 4851\n",
      "i: 99 sum: 4950\n",
      "i: 100 sum: 5050\n",
      "Yay Gauss in the Haus!\n"
     ]
    }
   ],
   "source": [
    "# Credit: https://www.reddit.com/r/cscareerquestions/comments/cxja6r/how_to_crack_codility_test_with_a_week_preparation/\n",
    "# Credit: https://drive.google.com/file/d/1-WTr1adkjwvOhnnZNjKOnMXC8GcPMFBV/view?usp=drive_link\n",
    "#For Loops\n",
    "sum = 0\n",
    "for i in range(1, 100+1): #Important to add 1 if you want 100 to be included in set of i\n",
    "    sum += i #same as sum = sum + i\n",
    "    print(\"i: {0} sum: {1}\".format(i, sum))\n",
    "print(\"Yay Gauss in the Haus!\")"
   ]
  },
  {
   "cell_type": "code",
   "execution_count": 13,
   "id": "105403f6-606e-47b2-b557-e7df95526135",
   "metadata": {},
   "outputs": [
    {
     "name": "stdout",
     "output_type": "stream",
     "text": [
      "i: 1 sum: 1\n",
      "i: 2 sum: 2\n",
      "i: 3 sum: 6\n",
      "i: 4 sum: 24\n",
      "i: 5 sum: 120\n",
      "i: 6 sum: 720\n",
      "i: 7 sum: 5040\n",
      "i: 8 sum: 40320\n",
      "i: 9 sum: 362880\n",
      "i: 10 sum: 3628800\n",
      "Factorial from 1 to n: 10\n"
     ]
    }
   ],
   "source": [
    "#Factorial\n",
    "factorial = 1\n",
    "n = 10\n",
    "for i in range(1, n + 1):\n",
    "    factorial *= i\n",
    "    print(\"i: {0} sum: {1}\".format(i, factorial))\n",
    "print(\"Factorial from 1 to n: {0}\".format(n))"
   ]
  },
  {
   "cell_type": "code",
   "execution_count": 30,
   "id": "1fb8aff2-210a-4080-97f3-d75d2387efed",
   "metadata": {},
   "outputs": [
    {
     "name": "stdout",
     "output_type": "stream",
     "text": [
      "*\n",
      "**\n",
      "***\n",
      "****\n"
     ]
    }
   ],
   "source": [
    "#Printing *\n",
    "#Print a triangle made of asterisks (‘*’) separated by spaces.\n",
    "#The triangle should consist of n rows, where n is a given positive integer,\n",
    "#and consecutive rows should contain 1, 2, . . . , n asterisks.\n",
    "#For example, for n = 4 the triangle should appear as follows\n",
    "#*\n",
    "#**\n",
    "#***\n",
    "#****\n",
    "#We need to use two loops, one inside the other:\n",
    "# the outer loop should print one row in each step\n",
    "# and the inner loop should print one asterisk in each step.\n",
    "n = 4\n",
    "for i in range(1, n + 1):\n",
    "    for j in range(0, i):\n",
    "        print(\"*\", end='')#python 3 automatically prints new line unless this parameter is passed.\n",
    "    print(\"\")"
   ]
  },
  {
   "cell_type": "code",
   "execution_count": 4,
   "id": "609f6e00-2d89-40d3-b053-7f6cb98a0f8e",
   "metadata": {},
   "outputs": [
    {
     "name": "stdout",
     "output_type": "stream",
     "text": [
      "n: 10000\n",
      "n: 1000\n",
      "n: 100\n",
      "n: 10\n",
      "n: 1\n",
      "n: 0\n",
      "result: 6\n"
     ]
    }
   ],
   "source": [
    "# while loop\n",
    "#Given a positive integer n, how can we count the number of digits in its decimal representation?\n",
    "#One way to do it is convert the integer into a string and count the characters.\n",
    "#Here, though, we will use only arithmetical operations instead.\n",
    "#We can simply keep dividing the number by ten and count how many steps are needed to obtain 0.\n",
    "n = 100000 #must be integer greater than 0\n",
    "result = 0\n",
    "while (n > 0):\n",
    "    n = n // 10 #floor division, returns the integer without the decimals\n",
    "    result += 1\n",
    "    print(\"n: {0}\".format(n))\n",
    "print(\"result: {0}\".format(result))"
   ]
  },
  {
   "cell_type": "code",
   "execution_count": 7,
   "id": "f8be1917-1ca8-4843-a2a5-a06f9b63f858",
   "metadata": {},
   "outputs": [
    {
     "name": "stdout",
     "output_type": "stream",
     "text": [
      "a: 0\n",
      "a: 1\n",
      "a: 1\n",
      "a: 2\n",
      "a: 3\n",
      "a: 5\n",
      "a: 8\n"
     ]
    }
   ],
   "source": [
    "#The Fibonacci numbers form a sequence of integers defined recursively in the following way.\n",
    "#The first two numbers in the Fibonacci sequence are 0 and 1,\n",
    "#and each subse- quent number is the sum of the previous two.\n",
    "#The first few elements in this sequence are: 0, 1, 1, 2, 3, 5, 8, 13.\n",
    "#Let’s write a program that prints all the Fibonacci numbers, not exceeding a given integer n.\n",
    "#We can keep generating and printing consecutive Fibonacci numbers until we exceed n.\n",
    "#In each step it’s enough to store only two consecutive Fibonacci numbers.\n",
    "\n",
    "a = 0\n",
    "b = 1\n",
    "n = 10\n",
    "while a <= n:\n",
    "    print(\"a: {0}\".format(a))\n",
    "    c = a + b\n",
    "    a = b\n",
    "    b = c"
   ]
  },
  {
   "cell_type": "code",
   "execution_count": 17,
   "id": "2e3bdb10-9392-4cb4-90ae-243e8660e65c",
   "metadata": {},
   "outputs": [
    {
     "name": "stdout",
     "output_type": "stream",
     "text": [
      "Monday\n",
      "Tuesday\n",
      "Wednesday\n",
      "Thursday\n",
      "Friday\n",
      "Saturday\n",
      "Sunday\n",
      "Sunday\n",
      "\n",
      "Wednesday\n",
      "Sunday\n",
      "Thursday\n",
      "Monday\n",
      "Tuesday\n",
      "Saturday\n",
      "Friday\n",
      "\n",
      "mon stands for Monday\n",
      "tue stands for Tuesday\n",
      "wed stands for Wednesday\n",
      "thu stands for Thursday\n",
      "fri stands for Friday\n",
      "sat stands for Saturday\n",
      "sun stands for Sunday\n"
     ]
    }
   ],
   "source": [
    "#looping over a list\n",
    "days = [\"Monday\", \"Tuesday\", \"Wednesday\", \"Thursday\",\n",
    "        \"Friday\", \"Saturday\", \"Sunday\", \"Sunday\"]\n",
    "for day in days:\n",
    "    print (day)\n",
    "\n",
    "print(\"\")\n",
    "\n",
    "#looping over a set\n",
    "days = set([\"Monday\", \"Tuesday\", \"Wednesday\", \"Thursday\",\n",
    "        \"Friday\", \"Saturday\", \"Sunday\", \"Sunday\"])\n",
    "for day in days:\n",
    "    print (day)\n",
    "\n",
    "print(\"\")\n",
    "\n",
    "#looping over a dictionary\n",
    "days = {\"mon\": \"Monday\", \"tue\": \"Tuesday\", \"wed\": \"Wednesday\",\n",
    "        \"thu\": \"Thursday\", \"fri\": \"Friday\", \"sat\": \"Saturday\",\n",
    "        \"sun\": \"Sunday\"}\n",
    "for day in days:\n",
    "    print (\"{0} stands for {1}\".format(day, days[day]))"
   ]
  },
  {
   "cell_type": "code",
   "execution_count": 29,
   "id": "ba8fd1c9-db7f-44c3-b69a-aaf60243d160",
   "metadata": {},
   "outputs": [
    {
     "name": "stdout",
     "output_type": "stream",
     "text": [
      "bread\n",
      "butter\n",
      "cheese\n",
      "eggs\n",
      "Length of Shopping List: 4\n",
      "\n",
      "0\n",
      "0\n",
      "0\n",
      "0\n",
      "0\n",
      "42\n",
      "0\n",
      "0\n",
      "0\n",
      "0\n"
     ]
    }
   ],
   "source": [
    "#Arrays\n",
    "#shopping list\n",
    "shopping_list = [\"bread\", \"butter\", \"cheese\"]\n",
    "#apend to the list\n",
    "shopping_list += [\"eggs\"]\n",
    "for item in shopping_list:\n",
    "    print(item)\n",
    "\n",
    "print(\"Length of Shopping List: {0}\".format(len(shopping_list)))\n",
    "print(\"\")\n",
    "\n",
    "#Creating an array of the correct length of zeros\n",
    "temperatures = [0] * 10\n",
    "temperatures[5] = 42\n",
    "for temperature in temperatures:\n",
    "    print(temperature)\n"
   ]
  },
  {
   "cell_type": "code",
   "execution_count": 80,
   "id": "ff3f77de-3814-4070-aee4-ca0cdd7bcea3",
   "metadata": {},
   "outputs": [
    {
     "name": "stdout",
     "output_type": "stream",
     "text": [
      "[-51, 100, -98, 56, 73, -34, 9, -95, -66, 93]\n",
      "[24, -25, 100, -22, -27, 99, -40, -26, -35, -9]\n",
      "[-51, 100, -98, 56, 73, -34, 9, -95, -66, 93, 24, -25, 100, -22, -27, 99, -40, -26, -35, -9]\n",
      "12\n",
      "12\n",
      "True\n"
     ]
    }
   ],
   "source": [
    "#print an array of length n with random numbers within a range\n",
    "import random\n",
    "def gen_temps(n, low, high):\n",
    "    \n",
    "    temp_range = range(low, high)\n",
    "    amount = n\n",
    "    temperatures = [0] * amount\n",
    "    for i in range(0, amount):\n",
    "        temperatures[i] = random.choice(temp_range)\n",
    "    return temperatures\n",
    "\n",
    "temperatures = gen_temps(10, -100, 101)\n",
    "print(temperatures)\n",
    "temperatures2 = gen_temps(10, -100, 101)\n",
    "print(temperatures2)\n",
    "temperatures3 = temperatures + temperatures2\n",
    "print(temperatures3)\n",
    "\n",
    "#index into array\n",
    "def count_negative(temperatures):\n",
    "    days = 0\n",
    "    for i in range(0, len(temperatures)):\n",
    "        if temperatures[i] < 0:\n",
    "            days += 1\n",
    "    return days\n",
    "\n",
    "#grab item from array\n",
    "def cnt_negative(temperatures):\n",
    "    days = 0\n",
    "    for temp in temperatures:\n",
    "        if temp < 0:\n",
    "            days += 1\n",
    "    return days\n",
    "\n",
    "print(count_negative(temperatures3))\n",
    "print(cnt_negative(temperatures3))\n",
    "print (-9 in temperatures3)"
   ]
  },
  {
   "cell_type": "code",
   "execution_count": 82,
   "id": "22c8111d-5f2d-4aa8-9d47-c5329df52096",
   "metadata": {},
   "outputs": [
    {
     "name": "stdout",
     "output_type": "stream",
     "text": [
      "[-100, 88, -63, 10, -86, 14]\n",
      "[14, -86, 10, -63, 88, -100]\n"
     ]
    }
   ],
   "source": [
    "# reverse an array\n",
    "import random\n",
    "def gen_temps(n, low, high):\n",
    "    \n",
    "    temp_range = range(low, high)\n",
    "    amount = n\n",
    "    temperatures = [0] * amount\n",
    "    for i in range(0, amount):\n",
    "        temperatures[i] = random.choice(temp_range)\n",
    "    return temperatures\n",
    "\n",
    "def reverse(A):\n",
    "    N = len(A)\n",
    "    for i in range(N // 2): # from 0 to the midpoint which is length div by 2 floored\n",
    "        k = N - i - 1 # index from the end of the array by length of (i-1)\n",
    "        A[i], A[k] = A[k], A[i]\n",
    "    return A\n",
    "\n",
    "temperatures = gen_temps(6, -100, 101)\n",
    "print(temperatures)\n",
    "temperatures_rev = reverse(temperatures)\n",
    "print(temperatures_rev)"
   ]
  },
  {
   "cell_type": "code",
   "execution_count": 83,
   "id": "d636824f-6ae3-4bec-8c35-9e917455a2cd",
   "metadata": {},
   "outputs": [
    {
     "name": "stdout",
     "output_type": "stream",
     "text": [
      "5050\n",
      "5050\n",
      "5050\n"
     ]
    }
   ],
   "source": [
    "#Gauss\n",
    "#You are given an integer n. Count the total of 1+2+...+n\n",
    "def slow_solution(n):#O(n^2) quadaratic\n",
    "    result = 0\n",
    "    for i in range(0, n):\n",
    "        for j in range(i + 1):\n",
    "            result += 1\n",
    "    return result\n",
    "\n",
    "def fast_solution(n):#O(n) linear\n",
    "    result = 0\n",
    "    for i in range(0, n):\n",
    "        result += (i + 1)\n",
    "    return result\n",
    "\n",
    "def gauss_solution(n):#O(1) fixed\n",
    "    #(n*(n+1))/2\n",
    "    return (n * (n + 1)) // 2\n",
    "\n",
    "n = 100\n",
    "print(slow_solution(n))\n",
    "print(fast_solution(n))\n",
    "print(gauss_solution(n))"
   ]
  },
  {
   "cell_type": "code",
   "execution_count": 108,
   "id": "c3b6b825-b747-4271-957c-73c271f34e1e",
   "metadata": {},
   "outputs": [
    {
     "name": "stdout",
     "output_type": "stream",
     "text": [
      "[8, 0, 1, 8, 4, 7, 3, 10, 7, 7]\n",
      "[1, 1, 0, 1, 1, 0, 0, 3, 2, 0, 1]\n"
     ]
    }
   ],
   "source": [
    "#Counting Elements in an Array\n",
    "import random\n",
    "def gen_temps(n, low, high):\n",
    "    \n",
    "    temp_range = range(low, high)\n",
    "    amount = n\n",
    "    temperatures = [0] * amount\n",
    "    for i in range(0, amount):\n",
    "        temperatures[i] = random.choice(temp_range)\n",
    "    return temperatures\n",
    "\n",
    "m = 10\n",
    "temperatures = gen_temps(10, 0, m + 1)#high inclusive\n",
    "print(temperatures)\n",
    "\n",
    "def counting(A, m):\n",
    "    n = len(A)\n",
    "    count = [0] * (m + 1)\n",
    "    for k in range(n):\n",
    "        count[A[k]] += 1\n",
    "    return count\n",
    "\n",
    "print(counting(temperatures, m))"
   ]
  },
  {
   "cell_type": "code",
   "execution_count": 117,
   "id": "23c4c2c1-2bdc-4743-b6fb-f88345e07b49",
   "metadata": {},
   "outputs": [
    {
     "name": "stdout",
     "output_type": "stream",
     "text": [
      "[7, 5, 2, 1, 10, 6, 4, 3, 4, 4]\n",
      "Moving average after adding 2: 4.666666666666667\n",
      "[7, 5, 2]\n",
      "Moving average after adding 1: 2.6666666666666665\n",
      "[5, 2, 1]\n",
      "Moving average after adding 10: 4.333333333333333\n",
      "[2, 1, 10]\n",
      "Moving average after adding 6: 5.666666666666667\n",
      "[1, 10, 6]\n",
      "Moving average after adding 4: 6.666666666666667\n",
      "[10, 6, 4]\n",
      "Moving average after adding 3: 4.333333333333333\n",
      "[6, 4, 3]\n",
      "Moving average after adding 4: 3.6666666666666665\n",
      "[4, 3, 4]\n",
      "Moving average after adding 4: 3.6666666666666665\n",
      "[3, 4, 4]\n"
     ]
    }
   ],
   "source": [
    "class MovingAverage:\n",
    "  \"\"\"\n",
    "  This class calculates the moving average of a list of numbers.\n",
    "\n",
    "  Attributes:\n",
    "      window_size: The number of elements to include in the moving average calculation.\n",
    "      data: A list to store the data points.\n",
    "  \"\"\"\n",
    "\n",
    "  def __init__(self, window_size):\n",
    "    \"\"\"\n",
    "    Initializes the MovingAverage class with a specified window size.\n",
    "\n",
    "    Args:\n",
    "      window_size: The number of elements to include in the moving average calculation.\n",
    "    \"\"\"\n",
    "    self.window_size = window_size\n",
    "    self.data = []\n",
    "\n",
    "  def update(self, value):\n",
    "    \"\"\"\n",
    "    Updates the moving average with a new data point.\n",
    "\n",
    "    Args:\n",
    "      value: The new data point to be added to the moving average calculation.\n",
    "    \"\"\"\n",
    "    self.data.append(value)\n",
    "    if len(self.data) > self.window_size:\n",
    "      self.data = self.data[-self.window_size:]\n",
    "        \n",
    "\n",
    "  def get_average(self):\n",
    "    \"\"\"\n",
    "    Calculates and returns the current moving average.\n",
    "\n",
    "    Returns:\n",
    "      The current moving average, or None if there are not enough data points yet.\n",
    "    \"\"\"\n",
    "    if len(self.data) < self.window_size:\n",
    "      return None\n",
    "    return sum(self.data) / len(self.data)\n",
    "\n",
    "  def print_data(self):\n",
    "    \"\"\"\n",
    "    Print the data array.\n",
    "\n",
    "    Returns:\n",
    "      None\n",
    "    \"\"\"\n",
    "    print(self.data)\n",
    "\n",
    "import random\n",
    "def gen_temps(n, low, high):\n",
    "    \n",
    "    temp_range = range(low, high)\n",
    "    amount = n\n",
    "    temperatures = [0] * amount\n",
    "    for i in range(0, amount):\n",
    "        temperatures[i] = random.choice(temp_range)\n",
    "    return temperatures\n",
    "\n",
    "m = 10\n",
    "temperatures = gen_temps(10, 0, m + 1)#high inclusive\n",
    "print(temperatures)\n",
    "\n",
    "# Example usage\n",
    "ma = MovingAverage(window_size = 3)\n",
    "\n",
    "for temp in temperatures:\n",
    "  ma.update(temp)\n",
    "  average = ma.get_average()\n",
    "  if average is not None:\n",
    "    print(\"Moving average after adding {0}: {1}\".format(temp, average))\n",
    "    ma.print_data()\n"
   ]
  },
  {
   "cell_type": "code",
   "execution_count": 122,
   "id": "e6732743-ddeb-467a-a8f7-e331949154c5",
   "metadata": {},
   "outputs": [
    {
     "name": "stdout",
     "output_type": "stream",
     "text": [
      "Original sentence: The leaves are falling beautifully in the evening sky.\n",
      "Modified sentence: the leaves are fall beautiful in the even sky.\n"
     ]
    }
   ],
   "source": [
    "class WordModifier:\n",
    "  \"\"\"\n",
    "  This class modifies words in a sentence by removing specific endings.\n",
    "\n",
    "  Attributes:\n",
    "      suffixes: A tuple containing the suffixes to be removed.\n",
    "  \"\"\"\n",
    "\n",
    "  def __init__(self, suffixes=(\"ing\", \"ed\", \"ly\")):\n",
    "    \"\"\"\n",
    "    Initializes the WordModifier class with a list of suffixes to remove.\n",
    "\n",
    "    Args:\n",
    "      suffixes: A tuple containing the suffixes to be removed from words (defaults to \"ing\", \"ed\", and \"ly\").\n",
    "    \"\"\"\n",
    "    self.suffixes = suffixes\n",
    "\n",
    "  def modify_sentence(self, sentence):\n",
    "    \"\"\"\n",
    "    Modifies a sentence by removing the specified suffixes from each word.\n",
    "\n",
    "    Args:\n",
    "      sentence: The sentence to be modified.\n",
    "\n",
    "    Returns:\n",
    "      A new sentence with the suffixes removed from words.\n",
    "    \"\"\"\n",
    "    modified_words = []\n",
    "    for word in sentence.lower().split():  # Convert to lowercase for case-insensitive removal\n",
    "      for suffix in self.suffixes:\n",
    "        if word.endswith(suffix):\n",
    "          word = word[:-len(suffix)]  # Slice the word to remove the suffix\n",
    "          break  # Only remove the first matching suffix\n",
    "      modified_words.append(word)\n",
    "    return \" \".join(modified_words)\n",
    "\n",
    "# Example usage\n",
    "modifier = WordModifier()\n",
    "original_sentence = \"The leaves are falling beautifully in the evening sky.\"\n",
    "modified_sentence = modifier.modify_sentence(original_sentence)\n",
    "print(f\"Original sentence: {original_sentence}\")\n",
    "print(f\"Modified sentence: {modified_sentence}\")"
   ]
  },
  {
   "cell_type": "code",
   "execution_count": 131,
   "id": "5df0f65b-ee25-4560-bf0f-73618475c6b7",
   "metadata": {},
   "outputs": [
    {
     "name": "stdout",
     "output_type": "stream",
     "text": [
      "[3, 4, 9, 1, 0, 9, 3, 7, 10, 7]\n",
      "[0, 1, 3, 3, 4, 7, 7, 9, 9, 10]\n"
     ]
    }
   ],
   "source": [
    "# Selection Sort\n",
    "import random\n",
    "def gen_temps(n, low, high):\n",
    "    \n",
    "    temp_range = range(low, high)\n",
    "    amount = n\n",
    "    temperatures = [0] * amount\n",
    "    for i in range(0, amount):\n",
    "        temperatures[i] = random.choice(temp_range)\n",
    "    return temperatures\n",
    "\n",
    "m = 10\n",
    "temperatures = gen_temps(10, 0, m + 1)#high inclusive\n",
    "print(temperatures)\n",
    "\n",
    "def selectionSort(A):\n",
    "    n = len(A)\n",
    "    for k in range(n):\n",
    "        minimal = k\n",
    "        for j in range(k + 1, n):\n",
    "            if A[j] < A[minimal]:\n",
    "                minimal = j\n",
    "        A[k], A[minimal] = A[minimal], A[k] # swap A[k] and A[minimal]\n",
    "    return A\n",
    "\n",
    "print(selectionSort(temperatures))"
   ]
  },
  {
   "cell_type": "code",
   "execution_count": 132,
   "id": "f834bf44-6851-4249-ac24-c927d6f70ea9",
   "metadata": {},
   "outputs": [
    {
     "name": "stdout",
     "output_type": "stream",
     "text": [
      "Original data: [5, 3, 8, 1, 6, 2]\n",
      "Sorted data: [1, 2, 3, 5, 6, 8]\n"
     ]
    }
   ],
   "source": [
    "def bubble_sort(data):\n",
    "  \"\"\"\n",
    "  Sorts a list of data in ascending order using the bubble sort algorithm.\n",
    "\n",
    "  Args:\n",
    "      data: The list of data to be sorted.\n",
    "\n",
    "  Returns:\n",
    "      A new list containing the sorted data.\n",
    "  \"\"\"\n",
    "  # Loop through the list n-1 times (where n is the length of the list)\n",
    "  for _ in range(len(data) - 1):\n",
    "    swapped = False\n",
    "    # Compare adjacent elements and swap if they are in the wrong order\n",
    "    for i in range(len(data) - 1):\n",
    "      if data[i] > data[i + 1]:\n",
    "        data[i], data[i + 1] = data[i + 1], data[i]  # Swap elements\n",
    "        swapped = True\n",
    "    # If no swaps occurred in a pass, the list is already sorted and we can exit the loop\n",
    "    if not swapped:\n",
    "      break\n",
    "  # Return the sorted list\n",
    "  return data\n",
    "\n",
    "# Example usage\n",
    "data = [5, 3, 8, 1, 6, 2]\n",
    "sorted_data = bubble_sort(data.copy())  # Avoid modifying the original list\n",
    "print(f\"Original data: {data}\")\n",
    "print(f\"Sorted data: {sorted_data}\")"
   ]
  }
 ],
 "metadata": {
  "kernelspec": {
   "display_name": "Python 3 (ipykernel)",
   "language": "python",
   "name": "python3"
  },
  "language_info": {
   "codemirror_mode": {
    "name": "ipython",
    "version": 3
   },
   "file_extension": ".py",
   "mimetype": "text/x-python",
   "name": "python",
   "nbconvert_exporter": "python",
   "pygments_lexer": "ipython3",
   "version": "3.11.7"
  }
 },
 "nbformat": 4,
 "nbformat_minor": 5
}
