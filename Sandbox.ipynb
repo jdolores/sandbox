{
 "cells": [
  {
   "cell_type": "code",
   "execution_count": 2,
   "id": "b0b8690a-879b-46bc-adb5-8f3ad0913cf7",
   "metadata": {},
   "outputs": [
    {
     "name": "stdout",
     "output_type": "stream",
     "text": [
      "Hello World\n"
     ]
    }
   ],
   "source": [
    "#Hello World\n",
    "print(\"Hello World\")"
   ]
  },
  {
   "cell_type": "code",
   "execution_count": 3,
   "id": "53ac8bbc-9a53-4c76-8a7f-4203b3982d20",
   "metadata": {},
   "outputs": [
    {
     "name": "stdout",
     "output_type": "stream",
     "text": [
      "x is 1.\n"
     ]
    }
   ],
   "source": [
    "#assignment and conditional\n",
    "x = 1\n",
    "if x == 1:\n",
    "    print(\"x is 1.\")"
   ]
  },
  {
   "cell_type": "code",
   "execution_count": 8,
   "id": "fd28e740-5e20-496b-9775-7da42716960c",
   "metadata": {},
   "outputs": [
    {
     "name": "stdout",
     "output_type": "stream",
     "text": [
      "7.0\n",
      "7.0\n",
      "hello\n",
      "hello\n",
      "3\n",
      "hello world\n",
      "3 4\n"
     ]
    }
   ],
   "source": [
    "#datatypes\n",
    "myfloat = 7.0\n",
    "print(myfloat)\n",
    "myfloat = float(7)\n",
    "print(myfloat)\n",
    "mystring = 'hello'\n",
    "print(mystring)\n",
    "mystring = \"hello\"\n",
    "print(mystring)\n",
    "#addition\n",
    "one = 1\n",
    "two = 2\n",
    "three = one + two\n",
    "print(three)\n",
    "#concatenation\n",
    "hello = \"hello\"\n",
    "world = \"world\"\n",
    "helloworld = hello + \" \" + world\n",
    "print(helloworld)\n",
    "#multiple assignment\n",
    "#okay for functions, but not great inline (bad PEP-8)\n",
    "a, b = 3, 4\n",
    "print(a, b)"
   ]
  },
  {
   "cell_type": "code",
   "execution_count": 12,
   "id": "0430426e-7440-4ab8-8feb-bc14c1c3a4bd",
   "metadata": {},
   "outputs": [
    {
     "name": "stdout",
     "output_type": "stream",
     "text": [
      "String: hello\n",
      "Float: 10.000000\n",
      "Integer: 20\n"
     ]
    }
   ],
   "source": [
    "# change this code\n",
    "mystring = \"hello\"\n",
    "myfloat = 10.0\n",
    "myint = 20\n",
    "\n",
    "# testing code\n",
    "if mystring == \"hello\":\n",
    "    print(\"String: %s\" % mystring)\n",
    "if isinstance(myfloat, float) and myfloat == 10.0:\n",
    "    print(\"Float: %f\" % myfloat)\n",
    "if isinstance(myint, int) and myint == 20:\n",
    "    print(\"Integer: %d\" % myint)"
   ]
  },
  {
   "cell_type": "code",
   "execution_count": 37,
   "id": "5a03a97d-c01b-4556-9b6b-009054b2decb",
   "metadata": {},
   "outputs": [
    {
     "name": "stdout",
     "output_type": "stream",
     "text": [
      "1. Write a program to print the given number is odd or even.\n",
      "1 is odd\n",
      "2 is even\n",
      "0 is even\n",
      "-1 is odd\n",
      "-2 is even\n",
      "1.1 is odd\n",
      "-1.2 is odd\n",
      "-2 is even\n"
     ]
    }
   ],
   "source": [
    "print(\"1. Write a program to print the given number is odd or even.\")\n",
    "def is_odd_or_even(x):\n",
    "    if(x % 2 == 0):\n",
    "        return 0 #even\n",
    "    else:\n",
    "        return 1 #odd\n",
    "\n",
    "# Test Function\n",
    "def test(x):\n",
    "    if(is_odd_or_even(x) == 0):\n",
    "        print(\"%s is even\" % x)\n",
    "    else:\n",
    "        print(\"%s is odd\" % x)\n",
    "\n",
    "# Test Cases\n",
    "test(1)\n",
    "test(2)\n",
    "test(0)\n",
    "test(-1)\n",
    "test(-2)\n",
    "test(1.1)\n",
    "test(-1.2)\n",
    "test(-2)"
   ]
  },
  {
   "cell_type": "code",
   "execution_count": 38,
   "id": "7d6f74b7-372a-4754-808d-6ce4c51f859a",
   "metadata": {},
   "outputs": [
    {
     "name": "stdout",
     "output_type": "stream",
     "text": [
      "2. Write a program to find the given number is positive or negative.\n",
      "1 is positive\n",
      "2 is positive\n",
      "0 is positive\n",
      "-1 is negative\n",
      "-2 is negative\n",
      "1.1 is positive\n",
      "-1.1 is negative\n",
      "-2 is negative\n"
     ]
    }
   ],
   "source": [
    "print(\"2. Write a program to find the given number is positive or negative.\")\n",
    "def is_positive_or_negative(x):\n",
    "    if(x >= 0):\n",
    "        return 0 #positive\n",
    "    else:\n",
    "        return 1 #negative\n",
    "\n",
    "# Test Function\n",
    "def test(x):\n",
    "    if(is_positive_or_negative(x) == 0):\n",
    "        print(\"%s is positive\" % x)\n",
    "    else:\n",
    "        print(\"%s is negative\" % x)\n",
    "\n",
    "# Test Cases\n",
    "test(1)\n",
    "test(2)\n",
    "test(0)\n",
    "test(-1)\n",
    "test(-2)\n",
    "test(1.1)\n",
    "test(-1.1)\n",
    "test(-2)"
   ]
  },
  {
   "cell_type": "code",
   "execution_count": 44,
   "id": "3b81bc5d-8398-454f-a850-3654a8bc80db",
   "metadata": {},
   "outputs": [
    {
     "name": "stdout",
     "output_type": "stream",
     "text": [
      "3. Write a program to find the sum of two numbers.\n",
      "1 + 1 = 2\n",
      "2 + 2 = 4\n",
      "-1 + -1 = -2\n",
      "-1 + 1 = 0\n",
      "0 + 0 = 0\n",
      "1.1 + 1.1 = 2.2\n",
      "-1.1 + -1.1 = -2.2\n",
      "-2 + 5 = 3\n",
      "2 + 2 = 5 WRONG\n"
     ]
    }
   ],
   "source": [
    "print(\"3. Write a program to find the sum of two numbers.\")\n",
    "def sum_two_numbers(x, y):\n",
    "    return x+y\n",
    "\n",
    "# Test Function\n",
    "def test(x, y, z):\n",
    "    if(sum_two_numbers(x,y) == z):\n",
    "        print(\"{0} + {1} = {2}\".format(x, y, z))\n",
    "    else:\n",
    "        print(\"{0} + {1} = {2} WRONG\".format(x, y, z))\n",
    "\n",
    "# Test Cases\n",
    "test(1,1,2)\n",
    "test(2,2,4)\n",
    "test(-1,-1,-2)\n",
    "test(-1,1,0)\n",
    "test(0,0,0)\n",
    "test(1.1,1.1,2.2)\n",
    "test(-1.1,-1.1,-2.2)\n",
    "test(-2,5,3)\n",
    "test(2,2,5)#WRONG"
   ]
  },
  {
   "cell_type": "code",
   "execution_count": null,
   "id": "1b9b05c7-6204-421f-ac84-600cf0bae7c1",
   "metadata": {},
   "outputs": [],
   "source": [
    "print(\"4. Write a program to find if the given number is prime or not.\")\n"
   ]
  },
  {
   "cell_type": "code",
   "execution_count": null,
   "id": "ea8673f1-8dc6-4954-8306-54e2c47f947e",
   "metadata": {},
   "outputs": [],
   "source": [
    "print(\"5. Write a program to check if the given number is palindrome or not.\")\n",
    "print(\"6. Write a program to check if the given number is Armstrong or not.\")\n",
    "print(\"7. Write a program to check if the given strings are anagram or not.\")\n",
    "print(\"8. Write a program to find a maximum of two numbers.\")\n",
    "print(\"9. Write a program to find a minimum of two numbers.\")\n",
    "print(\"10. Write a program to find a maximum of three numbers.\")\n",
    "print(\"11. Write a program to find a maximum of three numbers.\")\n",
    "print(\"12. Write a program to find a factorial of a number.\")\n",
    "print(\"13. Write a program to find a fibonacci of a number.\")\n",
    "print(\"14. Write a program to find GCD of two numbers.\")\n",
    "print(\"15. Write a program to print the following patterns:\")\n"
   ]
  }
 ],
 "metadata": {
  "kernelspec": {
   "display_name": "Python 3 (ipykernel)",
   "language": "python",
   "name": "python3"
  },
  "language_info": {
   "codemirror_mode": {
    "name": "ipython",
    "version": 3
   },
   "file_extension": ".py",
   "mimetype": "text/x-python",
   "name": "python",
   "nbconvert_exporter": "python",
   "pygments_lexer": "ipython3",
   "version": "3.11.7"
  }
 },
 "nbformat": 4,
 "nbformat_minor": 5
}
