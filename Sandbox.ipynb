{
 "cells": [
  {
   "cell_type": "code",
   "execution_count": null,
   "id": "65c68091-f409-4e0b-a9b9-35164b6a53ec",
   "metadata": {},
   "outputs": [],
   "source": [
    "print(\"Write a program to check if the given number is palindrome or not.\")"
   ]
  },
  {
   "cell_type": "code",
   "execution_count": 9,
   "id": "ea8673f1-8dc6-4954-8306-54e2c47f947e",
   "metadata": {},
   "outputs": [
    {
     "name": "stdout",
     "output_type": "stream",
     "text": [
      "5. Write a program to check if the given number is palindrome or not.\n",
      "6. Write a program to check if the given number is Armstrong or not.\n",
      "7. Write a program to check if the given strings are anagram or not.\n",
      "8. Write a program to find a maximum of two numbers.\n",
      "9. Write a program to find a minimum of two numbers.\n",
      "10. Write a program to find a maximum of three numbers.\n",
      "11. Write a program to find a maximum of three numbers.\n",
      "12. Write a program to find a factorial of a number.\n",
      "13. Write a program to find a fibonacci of a number.\n",
      "14. Write a program to find GCD of two numbers.\n",
      "15. Write a program to print the following patterns:\n"
     ]
    }
   ],
   "source": [
    "print(\"5. Write a program to check if the given number is palindrome or not.\")\n",
    "print(\"6. Write a program to check if the given number is Armstrong or not.\")\n",
    "print(\"7. Write a program to check if the given strings are anagram or not.\")\n",
    "print(\"8. Write a program to find a maximum of two numbers.\")\n",
    "print(\"9. Write a program to find a minimum of two numbers.\")\n",
    "print(\"10. Write a program to find a maximum of three numbers.\")\n",
    "print(\"11. Write a program to find a maximum of three numbers.\")\n",
    "print(\"12. Write a program to find a factorial of a number.\")\n",
    "print(\"13. Write a program to find a fibonacci of a number.\")\n",
    "print(\"14. Write a program to find GCD of two numbers.\")\n",
    "print(\"15. Write a program to print the following patterns:\")"
   ]
  },
  {
   "cell_type": "code",
   "execution_count": 4,
   "id": "609f6e00-2d89-40d3-b053-7f6cb98a0f8e",
   "metadata": {},
   "outputs": [
    {
     "name": "stdout",
     "output_type": "stream",
     "text": [
      "n: 10000\n",
      "n: 1000\n",
      "n: 100\n",
      "n: 10\n",
      "n: 1\n",
      "n: 0\n",
      "result: 6\n"
     ]
    }
   ],
   "source": [
    "# while loop\n",
    "#Given a positive integer n, how can we count the number of digits in its decimal representation?\n",
    "#One way to do it is convert the integer into a string and count the characters.\n",
    "#Here, though, we will use only arithmetical operations instead.\n",
    "#We can simply keep dividing the number by ten and count how many steps are needed to obtain 0.\n",
    "n = 100000 #must be integer greater than 0\n",
    "result = 0\n",
    "while (n > 0):\n",
    "    n = n // 10 #floor division, returns the integer without the decimals\n",
    "    result += 1\n",
    "    print(\"n: {0}\".format(n))\n",
    "print(\"result: {0}\".format(result))"
   ]
  },
  {
   "cell_type": "code",
   "execution_count": 7,
   "id": "f8be1917-1ca8-4843-a2a5-a06f9b63f858",
   "metadata": {},
   "outputs": [
    {
     "name": "stdout",
     "output_type": "stream",
     "text": [
      "a: 0\n",
      "a: 1\n",
      "a: 1\n",
      "a: 2\n",
      "a: 3\n",
      "a: 5\n",
      "a: 8\n"
     ]
    }
   ],
   "source": [
    "#The Fibonacci numbers form a sequence of integers defined recursively in the following way.\n",
    "#The first two numbers in the Fibonacci sequence are 0 and 1,\n",
    "#and each subse- quent number is the sum of the previous two.\n",
    "#The first few elements in this sequence are: 0, 1, 1, 2, 3, 5, 8, 13.\n",
    "#Let’s write a program that prints all the Fibonacci numbers, not exceeding a given integer n.\n",
    "#We can keep generating and printing consecutive Fibonacci numbers until we exceed n.\n",
    "#In each step it’s enough to store only two consecutive Fibonacci numbers.\n",
    "\n",
    "a = 0\n",
    "b = 1\n",
    "n = 10\n",
    "while a <= n:\n",
    "    print(\"a: {0}\".format(a))\n",
    "    c = a + b\n",
    "    a = b\n",
    "    b = c"
   ]
  },
  {
   "cell_type": "code",
   "execution_count": 17,
   "id": "2e3bdb10-9392-4cb4-90ae-243e8660e65c",
   "metadata": {},
   "outputs": [
    {
     "name": "stdout",
     "output_type": "stream",
     "text": [
      "Monday\n",
      "Tuesday\n",
      "Wednesday\n",
      "Thursday\n",
      "Friday\n",
      "Saturday\n",
      "Sunday\n",
      "Sunday\n",
      "\n",
      "Wednesday\n",
      "Sunday\n",
      "Thursday\n",
      "Monday\n",
      "Tuesday\n",
      "Saturday\n",
      "Friday\n",
      "\n",
      "mon stands for Monday\n",
      "tue stands for Tuesday\n",
      "wed stands for Wednesday\n",
      "thu stands for Thursday\n",
      "fri stands for Friday\n",
      "sat stands for Saturday\n",
      "sun stands for Sunday\n"
     ]
    }
   ],
   "source": [
    "#looping over a list\n",
    "days = [\"Monday\", \"Tuesday\", \"Wednesday\", \"Thursday\",\n",
    "        \"Friday\", \"Saturday\", \"Sunday\", \"Sunday\"]\n",
    "for day in days:\n",
    "    print (day)\n",
    "\n",
    "print(\"\")\n",
    "\n",
    "#looping over a set\n",
    "days = set([\"Monday\", \"Tuesday\", \"Wednesday\", \"Thursday\",\n",
    "        \"Friday\", \"Saturday\", \"Sunday\", \"Sunday\"])\n",
    "for day in days:\n",
    "    print (day)\n",
    "\n",
    "print(\"\")\n",
    "\n",
    "#looping over a dictionary\n",
    "days = {\"mon\": \"Monday\", \"tue\": \"Tuesday\", \"wed\": \"Wednesday\",\n",
    "        \"thu\": \"Thursday\", \"fri\": \"Friday\", \"sat\": \"Saturday\",\n",
    "        \"sun\": \"Sunday\"}\n",
    "for day in days:\n",
    "    print (\"{0} stands for {1}\".format(day, days[day]))"
   ]
  },
  {
   "cell_type": "code",
   "execution_count": 29,
   "id": "ba8fd1c9-db7f-44c3-b69a-aaf60243d160",
   "metadata": {},
   "outputs": [
    {
     "name": "stdout",
     "output_type": "stream",
     "text": [
      "bread\n",
      "butter\n",
      "cheese\n",
      "eggs\n",
      "Length of Shopping List: 4\n",
      "\n",
      "0\n",
      "0\n",
      "0\n",
      "0\n",
      "0\n",
      "42\n",
      "0\n",
      "0\n",
      "0\n",
      "0\n"
     ]
    }
   ],
   "source": [
    "#Arrays\n",
    "#shopping list\n",
    "shopping_list = [\"bread\", \"butter\", \"cheese\"]\n",
    "#apend to the list\n",
    "shopping_list += [\"eggs\"]\n",
    "for item in shopping_list:\n",
    "    print(item)\n",
    "\n",
    "print(\"Length of Shopping List: {0}\".format(len(shopping_list)))\n",
    "print(\"\")\n",
    "\n",
    "#Creating an array of the correct length of zeros\n",
    "temperatures = [0] * 10\n",
    "temperatures[5] = 42\n",
    "for temperature in temperatures:\n",
    "    print(temperature)\n"
   ]
  },
  {
   "cell_type": "code",
   "execution_count": 80,
   "id": "ff3f77de-3814-4070-aee4-ca0cdd7bcea3",
   "metadata": {},
   "outputs": [
    {
     "name": "stdout",
     "output_type": "stream",
     "text": [
      "[-51, 100, -98, 56, 73, -34, 9, -95, -66, 93]\n",
      "[24, -25, 100, -22, -27, 99, -40, -26, -35, -9]\n",
      "[-51, 100, -98, 56, 73, -34, 9, -95, -66, 93, 24, -25, 100, -22, -27, 99, -40, -26, -35, -9]\n",
      "12\n",
      "12\n",
      "True\n"
     ]
    }
   ],
   "source": [
    "#print an array of length n with random numbers within a range\n",
    "import random\n",
    "def gen_temps(n, low, high):\n",
    "    \n",
    "    temp_range = range(low, high)\n",
    "    amount = n\n",
    "    temperatures = [0] * amount\n",
    "    for i in range(0, amount):\n",
    "        temperatures[i] = random.choice(temp_range)\n",
    "    return temperatures\n",
    "\n",
    "temperatures = gen_temps(10, -100, 101)\n",
    "print(temperatures)\n",
    "temperatures2 = gen_temps(10, -100, 101)\n",
    "print(temperatures2)\n",
    "temperatures3 = temperatures + temperatures2\n",
    "print(temperatures3)\n",
    "\n",
    "#index into array\n",
    "def count_negative(temperatures):\n",
    "    days = 0\n",
    "    for i in range(0, len(temperatures)):\n",
    "        if temperatures[i] < 0:\n",
    "            days += 1\n",
    "    return days\n",
    "\n",
    "#grab item from array\n",
    "def cnt_negative(temperatures):\n",
    "    days = 0\n",
    "    for temp in temperatures:\n",
    "        if temp < 0:\n",
    "            days += 1\n",
    "    return days\n",
    "\n",
    "print(count_negative(temperatures3))\n",
    "print(cnt_negative(temperatures3))\n",
    "print (-9 in temperatures3)"
   ]
  },
  {
   "cell_type": "code",
   "execution_count": 82,
   "id": "22c8111d-5f2d-4aa8-9d47-c5329df52096",
   "metadata": {},
   "outputs": [
    {
     "name": "stdout",
     "output_type": "stream",
     "text": [
      "[-100, 88, -63, 10, -86, 14]\n",
      "[14, -86, 10, -63, 88, -100]\n"
     ]
    }
   ],
   "source": [
    "# reverse an array\n",
    "import random\n",
    "def gen_temps(n, low, high):\n",
    "    \n",
    "    temp_range = range(low, high)\n",
    "    amount = n\n",
    "    temperatures = [0] * amount\n",
    "    for i in range(0, amount):\n",
    "        temperatures[i] = random.choice(temp_range)\n",
    "    return temperatures\n",
    "\n",
    "def reverse(A):\n",
    "    N = len(A)\n",
    "    for i in range(N // 2): # from 0 to the midpoint which is length div by 2 floored\n",
    "        k = N - i - 1 # index from the end of the array by length of (i-1)\n",
    "        A[i], A[k] = A[k], A[i]\n",
    "    return A\n",
    "\n",
    "temperatures = gen_temps(6, -100, 101)\n",
    "print(temperatures)\n",
    "temperatures_rev = reverse(temperatures)\n",
    "print(temperatures_rev)"
   ]
  },
  {
   "cell_type": "code",
   "execution_count": 83,
   "id": "d636824f-6ae3-4bec-8c35-9e917455a2cd",
   "metadata": {},
   "outputs": [
    {
     "name": "stdout",
     "output_type": "stream",
     "text": [
      "5050\n",
      "5050\n",
      "5050\n"
     ]
    }
   ],
   "source": [
    "#Gauss\n",
    "#You are given an integer n. Count the total of 1+2+...+n\n",
    "def slow_solution(n):#O(n^2) quadaratic\n",
    "    result = 0\n",
    "    for i in range(0, n):\n",
    "        for j in range(i + 1):\n",
    "            result += 1\n",
    "    return result\n",
    "\n",
    "def fast_solution(n):#O(n) linear\n",
    "    result = 0\n",
    "    for i in range(0, n):\n",
    "        result += (i + 1)\n",
    "    return result\n",
    "\n",
    "def gauss_solution(n):#O(1) fixed\n",
    "    #(n*(n+1))/2\n",
    "    return (n * (n + 1)) // 2\n",
    "\n",
    "n = 100\n",
    "print(slow_solution(n))\n",
    "print(fast_solution(n))\n",
    "print(gauss_solution(n))"
   ]
  },
  {
   "cell_type": "code",
   "execution_count": 108,
   "id": "c3b6b825-b747-4271-957c-73c271f34e1e",
   "metadata": {},
   "outputs": [
    {
     "name": "stdout",
     "output_type": "stream",
     "text": [
      "[8, 0, 1, 8, 4, 7, 3, 10, 7, 7]\n",
      "[1, 1, 0, 1, 1, 0, 0, 3, 2, 0, 1]\n"
     ]
    }
   ],
   "source": [
    "#Counting Elements in an Array\n",
    "import random\n",
    "def gen_temps(n, low, high):\n",
    "    \n",
    "    temp_range = range(low, high)\n",
    "    amount = n\n",
    "    temperatures = [0] * amount\n",
    "    for i in range(0, amount):\n",
    "        temperatures[i] = random.choice(temp_range)\n",
    "    return temperatures\n",
    "\n",
    "m = 10\n",
    "temperatures = gen_temps(10, 0, m + 1)#high inclusive\n",
    "print(temperatures)\n",
    "\n",
    "def counting(A, m):\n",
    "    n = len(A)\n",
    "    count = [0] * (m + 1)\n",
    "    for k in range(n):\n",
    "        count[A[k]] += 1\n",
    "    return count\n",
    "\n",
    "print(counting(temperatures, m))"
   ]
  },
  {
   "cell_type": "code",
   "execution_count": 131,
   "id": "5df0f65b-ee25-4560-bf0f-73618475c6b7",
   "metadata": {},
   "outputs": [
    {
     "name": "stdout",
     "output_type": "stream",
     "text": [
      "[3, 4, 9, 1, 0, 9, 3, 7, 10, 7]\n",
      "[0, 1, 3, 3, 4, 7, 7, 9, 9, 10]\n"
     ]
    }
   ],
   "source": [
    "# Selection Sort\n",
    "import random\n",
    "def gen_temps(n, low, high):\n",
    "    \n",
    "    temp_range = range(low, high)\n",
    "    amount = n\n",
    "    temperatures = [0] * amount\n",
    "    for i in range(0, amount):\n",
    "        temperatures[i] = random.choice(temp_range)\n",
    "    return temperatures\n",
    "\n",
    "m = 10\n",
    "temperatures = gen_temps(10, 0, m + 1)#high inclusive\n",
    "print(temperatures)\n",
    "\n",
    "def selectionSort(A):\n",
    "    n = len(A)\n",
    "    for k in range(n):\n",
    "        minimal = k\n",
    "        for j in range(k + 1, n):\n",
    "            if A[j] < A[minimal]:\n",
    "                minimal = j\n",
    "        A[k], A[minimal] = A[minimal], A[k] # swap A[k] and A[minimal]\n",
    "    return A\n",
    "\n",
    "print(selectionSort(temperatures))"
   ]
  },
  {
   "cell_type": "code",
   "execution_count": 132,
   "id": "f834bf44-6851-4249-ac24-c927d6f70ea9",
   "metadata": {},
   "outputs": [
    {
     "name": "stdout",
     "output_type": "stream",
     "text": [
      "Original data: [5, 3, 8, 1, 6, 2]\n",
      "Sorted data: [1, 2, 3, 5, 6, 8]\n"
     ]
    }
   ],
   "source": [
    "def bubble_sort(data):\n",
    "  \"\"\"\n",
    "  Sorts a list of data in ascending order using the bubble sort algorithm.\n",
    "\n",
    "  Args:\n",
    "      data: The list of data to be sorted.\n",
    "\n",
    "  Returns:\n",
    "      A new list containing the sorted data.\n",
    "  \"\"\"\n",
    "  # Loop through the list n-1 times (where n is the length of the list)\n",
    "  for _ in range(len(data) - 1):\n",
    "    swapped = False\n",
    "    # Compare adjacent elements and swap if they are in the wrong order\n",
    "    for i in range(len(data) - 1):\n",
    "      if data[i] > data[i + 1]:\n",
    "        data[i], data[i + 1] = data[i + 1], data[i]  # Swap elements\n",
    "        swapped = True\n",
    "    # If no swaps occurred in a pass, the list is already sorted and we can exit the loop\n",
    "    if not swapped:\n",
    "      break\n",
    "  # Return the sorted list\n",
    "  return data\n",
    "\n",
    "# Example usage\n",
    "data = [5, 3, 8, 1, 6, 2]\n",
    "sorted_data = bubble_sort(data.copy())  # Avoid modifying the original list\n",
    "print(f\"Original data: {data}\")\n",
    "print(f\"Sorted data: {sorted_data}\")"
   ]
  },
  {
   "cell_type": "code",
   "execution_count": null,
   "id": "246ffdb3-c917-4553-bd94-4fde74e9c7f4",
   "metadata": {},
   "outputs": [],
   "source": []
  }
 ],
 "metadata": {
  "kernelspec": {
   "display_name": "Python 3 (ipykernel)",
   "language": "python",
   "name": "python3"
  },
  "language_info": {
   "codemirror_mode": {
    "name": "ipython",
    "version": 3
   },
   "file_extension": ".py",
   "mimetype": "text/x-python",
   "name": "python",
   "nbconvert_exporter": "python",
   "pygments_lexer": "ipython3",
   "version": "3.11.7"
  }
 },
 "nbformat": 4,
 "nbformat_minor": 5
}
